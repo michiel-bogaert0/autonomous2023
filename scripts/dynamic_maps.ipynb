{
  "cells": [
  {
   "cell_type": "code",
   "execution_count": 1,
   "metadata": {},
   "outputs": [
    {
     "name": "stderr",
     "output_type": "stream",
     "text": [
      "/home/zander/.local/lib/python3.10/site-packages/matplotlib/projections/__init__.py:63: UserWarning: Unable to import Axes3D. This may be due to multiple versions of Matplotlib being installed (e.g. as a system package and as a pip package). As a result, the 3D projection is not available.\n",
      "  warnings.warn(\"Unable to import Axes3D. This may be due to multiple versions of \"\n"
     ]
    }
   ],
   "source": [
    "import numpy as np\n",
    "import matplotlib.pyplot as plt\n",
    "import yaml"
   ]
  },
  {
   "cell_type": "markdown",
   "metadata": {},
   "source": [
    "# Acceleration"
   ]
  },
  {
   "cell_type": "code",
   "execution_count": 18,
   "metadata": {},
   "outputs": [],
   "source": [
    "def create_map_acceleration(length_straight, stop_area_length, track_width):\n",
    "    orange_cones = []\n",
    "    blue_cones = []\n",
    "    yellow_cones = []\n",
    "    centerline = []\n",
    "\n",
    "    # Starting lines\n",
    "    orange_cones.append([0, track_width/2])\n",
    "    orange_cones.append([0, -track_width/2])\n",
    "    # Not sure about the 0.6m, not really clear from rules\n",
    "    orange_cones.append([0.6, track_width/2])\n",
    "    orange_cones.append([0.6, -track_width/2])\n",
    "\n",
    "    centerline.append([0, 0])\n",
    "\n",
    "    # Acceleration line\n",
    "    for i in range(1, length_straight//5):\n",
    "        blue_cones.append([i*5 + 0.6, track_width/2])\n",
    "        yellow_cones.append([i*5 + 0.6, -track_width/2])\n",
    "        centerline.append([i*5 + 0.6, 0])\n",
    "\n",
    "    # End timing line\n",
    "    orange_cones.append([length_straight + 0.3, track_width/2])\n",
    "    orange_cones.append([length_straight + 0.3, -track_width/2])\n",
    "    orange_cones.append([length_straight + 0.6, track_width/2])\n",
    "    orange_cones.append([length_straight + 0.6, -track_width/2])\n",
    "\n",
    "    # End box of 75m\n",
    "    for i in range(1, stop_area_length//5 + 1):\n",
    "        orange_cones.append([length_straight + 0.6 + i*5, track_width/2])\n",
    "        orange_cones.append([length_straight + 0.6 + i*5, -track_width/2])\n",
    "        centerline.append([length_straight + 0.6 + i*5, 0])\n",
    "    \n",
    "    # Close box\n",
    "    for i in range(1, track_width):\n",
    "        orange_cones.append([length_straight + 0.6 + stop_area_length, track_width/2 - i])\n",
    "\n",
    "\n",
    "    return np.array(blue_cones), np.array(yellow_cones), np.array(orange_cones), np.array(centerline)\n"
   ]
  },
  {
   "cell_type": "code",
   "execution_count": 19,
   "metadata": {},
   "outputs": [
    {
     "data": {
      "text/plain": [
       "(-7.53, 158.13, -1.65, 1.65)"
      ]
     },
     "execution_count": 19,
     "metadata": {},
     "output_type": "execute_result"
    },
    {
     "data": {
      "image/png": "[encoded data removed]",
      "text/plain": [
       "<Figure size 432x288 with 1 Axes>"
      ]
     },
     "metadata": {
      "needs_background": "light"
     },
     "output_type": "display_data"
    }
   ],
   "source": [
    "length_straight = 75\n",
    "stop_area_length = 75\n",
    "track_width = 3\n",
    "\n",
    "blue_cones, yellow_cones, orange_cones, centerline = create_map_acceleration(length_straight, stop_area_length, track_width)\n",
    "\n",
    "plt.plot(blue_cones[:,0], blue_cones[:,1], 'bo')\n",
    "plt.plot(yellow_cones[:,0], yellow_cones[:,1], 'yo')\n",
    "plt.plot(orange_cones[:,0], orange_cones[:,1], 'ro')\n",
    "plt.plot(centerline[:,0], centerline[:,1], 'g')\n",
    "plt.axis('equal')"
   ]
  },
  {
   "cell_type": "markdown",
   "metadata": {},
   "source": [
    "# Skidpad"
   ]
  },
  {
   "cell_type": "code",
   "execution_count": 20,
   "metadata": {},
   "outputs": [],
   "source": [
    "def create_map_skidpad(diameter_inner, diameter_outer):\n",
    "    orange_cones = []\n",
    "    blue_cones = []\n",
    "    yellow_cones = []\n",
    "    centerline = []\n",
    "\n",
    "    # track width fixed\n",
    "    track_width = 3\n",
    "\n",
    "    # Starting orange cones\n",
    "    orange_cones.append([0, track_width/2])\n",
    "    orange_cones.append([0, -track_width/2])\n",
    "    orange_cones.append([5, track_width/2])\n",
    "    orange_cones.append([5, -track_width/2])\n",
    "\n",
    "    # Right circle\n",
    "    \n",
    "    angle_inner_right = np.linspace(-np.pi/2, 3*np.pi/2, 17)\n",
    "    # 16 inner cones\n",
    "    for i in range(16):\n",
    "        yellow_cones.append([15 + diameter_inner/2*np.cos(angle_inner_right[i]), -track_width/2 - diameter_inner/2 - diameter_inner/2*np.sin(angle_inner_right[i])])\n",
    "    print(yellow_cones)\n",
    "    \n",
    "    angle_outer_right = np.linspace(-np.pi/2, 3*np.pi/2, 17)\n",
    "    # Only 13 outer cones\n",
    "    for i in range(2, 15):\n",
    "        blue_cones.append([15 + diameter_outer/2*np.cos(angle_outer_right[i]), -track_width/2 - diameter_inner/2 - diameter_outer/2*np.sin(angle_outer_right[i])])\n",
    "\n",
    "    # Left circle\n",
    "    angle_inner_left = np.linspace(-np.pi/2, 3*np.pi/2, 17)\n",
    "    # 16 inner cones\n",
    "    for i in range(16):\n",
    "        blue_cones.append([15 + diameter_inner/2*np.cos(angle_inner_left[i]), track_width/2 + diameter_inner/2 + diameter_inner/2*np.sin(angle_inner_left[i])])\n",
    "    \n",
    "    angle_outer_left = np.linspace(-np.pi/2, 3*np.pi/2, 17)\n",
    "    # Only 13 outer cones\n",
    "    for i in range(2, 15):\n",
    "        yellow_cones.append([15 + diameter_outer/2*np.cos(angle_outer_left[i]), track_width/2 + diameter_inner/2 + diameter_outer/2*np.sin(angle_outer_left[i])])\n",
    "\n",
    "    # Cones for timing equipment\n",
    "    orange_cones.append([15-0.3, track_width/2])\n",
    "    orange_cones.append([15-0.3, -track_width/2])\n",
    "    orange_cones.append([15+0.3, track_width/2])\n",
    "    orange_cones.append([15+0.3, -track_width/2])\n",
    "\n",
    "    # Stop area\n",
    "    for i in range(0, track_width+1):\n",
    "        orange_cones.append([40, track_width/2 - i])\n",
    "\n",
    "    orange_cones.append([35, -track_width/2])\n",
    "    orange_cones.append([35, track_width/2])\n",
    "    orange_cones.append([30, -track_width/2])\n",
    "    orange_cones.append([30, track_width/2])\n",
    "    orange_cones.append([25, -track_width/2])\n",
    "    orange_cones.append([25, track_width/2])\n",
    "\n",
    "    # centerline\n",
    "    diameter = (diameter_outer + diameter_inner) / 2\n",
    "    # start\n",
    "    for i in range(0, 16, 3):\n",
    "        centerline.append([i, 0])\n",
    "\n",
    "    # right circle\n",
    "    angle = np.linspace(5*np.pi/2, np.pi/2, 20)\n",
    "    for i in range(20):\n",
    "        centerline.append([15 + diameter/2*np.cos(angle[i]), - diameter/2 + diameter/2*np.sin(angle[i])])\n",
    "    for i in range(20):\n",
    "        centerline.append([15 + diameter/2*np.cos(angle[i]), - diameter/2 + diameter/2*np.sin(angle[i])])\n",
    "\n",
    "    # left circle\n",
    "    angle = np.linspace(-np.pi/2, 3*np.pi/2, 20)\n",
    "    for i in range(20):\n",
    "        centerline.append([15 + diameter/2*np.cos(angle[i]), diameter/2 + diameter/2*np.sin(angle[i])])\n",
    "    for i in range(20):\n",
    "        centerline.append([15 + diameter/2*np.cos(angle[i]), diameter/2 + diameter/2*np.sin(angle[i])])\n",
    "\n",
    "    # stop\n",
    "    for i in range(15, 42, 3):\n",
    "        centerline.append([i, 0])\n",
    "\n",
    "    return np.array(blue_cones), np.array(yellow_cones), np.array(orange_cones), np.array(centerline)"
   ]
  },
  {
   "cell_type": "code",
   "execution_count": 21,
   "metadata": {},
   "outputs": [
    {
     "name": "stdout",
     "output_type": "stream",
     "text": [
      "[[15.0, -1.5], [17.91796117178381, -2.0804185646014384], [20.391689206547426, -3.733310793452576], [22.044581435398563, -6.207038828216191], [22.625, -9.125], [22.044581435398563, -12.042961171783809], [20.391689206547426, -14.516689206547424], [17.91796117178381, -16.169581435398563], [15.0, -16.75], [12.082038828216191, -16.169581435398563], [9.608310793452576, -14.516689206547426], [7.95541856460144, -12.042961171783814], [7.375, -9.125000000000002], [7.955418564601439, -6.207038828216188], [9.608310793452574, -3.733310793452576], [12.082038828216186, -2.08041856460144]]\n"
     ]
    },
    {
     "data": {
      "text/plain": [
       "(-2.0, 42.0, -21.725, 21.725)"
      ]
     },
     "execution_count": 21,
     "metadata": {},
     "output_type": "execute_result"
    },
    {
     "data": {
      "image/png": "[encoded data removed]",
      "text/plain": [
       "<Figure size 432x288 with 1 Axes>"
      ]
     },
     "metadata": {
      "needs_background": "light"
     },
     "output_type": "display_data"
    }
   ],
   "source": [
    "diameter_inner = 15.25\n",
    "diameter_outer = 21.25\n",
    "\n",
    "blue_cones, yellow_cones, orange_cones, centerline = create_map_skidpad(diameter_inner, diameter_outer)\n",
    "\n",
    "plt.plot(blue_cones[:,0], blue_cones[:,1], 'bo')\n",
    "plt.plot(yellow_cones[:,0], yellow_cones[:,1], 'yo')\n",
    "plt.plot(orange_cones[:,0], orange_cones[:,1], 'ro')\n",
    "plt.plot(centerline[:,0], centerline[:,1], 'g')\n",
    "plt.axis('equal')"
   ]
  },
  {
   "cell_type": "markdown",
   "metadata": {},
   "source": [
    "# DVSV"
   ]
  },
  {
   "cell_type": "code",
   "execution_count": 22,
   "metadata": {},
   "outputs": [],
   "source": [
    "def create_map_dvsv(distance_cones_straight, cones_on_straight, track_width, turn_radius, blue_cones_turn, yellow_cones_turn, centerline_points_turn):\n",
    "    blue_cones = np.array([[0, track_width/2]])\n",
    "    yellow_cones = np.array([[0, -track_width/2]])\n",
    "\n",
    "    centerline = np.array([[0, 0]])\n",
    "\n",
    "    straight_length = distance_cones_straight * cones_on_straight\n",
    "\n",
    "    # straight; cones_on_straight amount of cones with spacing of distance_cones_straight\n",
    "    for i in range(1, cones_on_straight + 1):\n",
    "        blue_cones = np.append(blue_cones, [[i*distance_cones_straight, track_width/2]], axis=0)\n",
    "        yellow_cones = np.append(yellow_cones, [[i*distance_cones_straight, -track_width/2]], axis=0)\n",
    "        centerline = np.append(centerline, [[i*distance_cones_straight, 0]], axis=0)\n",
    "    \n",
    "    # left turn of 180 degrees with radius turn_radius\n",
    "    inner_radius = turn_radius - track_width/2\n",
    "    angle = np.linspace(-np.pi/2, np.pi/2, blue_cones_turn)\n",
    "    x = inner_radius*np.cos(angle) + straight_length + distance_cones_straight\n",
    "    y = inner_radius*np.sin(angle) + turn_radius\n",
    "    blue_cones = np.append(blue_cones, np.column_stack((x, y)), axis=0)\n",
    "\n",
    "    angle = np.linspace(-np.pi/2, np.pi/2, yellow_cones_turn)\n",
    "    outer_radius = turn_radius + track_width/2\n",
    "    x = outer_radius*np.cos(angle) + straight_length + distance_cones_straight\n",
    "    y = outer_radius*np.sin(angle) + turn_radius\n",
    "    yellow_cones = np.append(yellow_cones, np.column_stack((x, y)), axis=0)\n",
    "\n",
    "    angle = np.linspace(-np.pi/2, np.pi/2, centerline_points_turn)\n",
    "    x = turn_radius*np.cos(angle) + straight_length + distance_cones_straight\n",
    "    y = turn_radius*np.sin(angle) + turn_radius\n",
    "    centerline = np.append(centerline, np.column_stack((x, y)), axis=0)\n",
    "\n",
    "    # reverse straight; cones_on_straight amount of cones with spacing of distance_cones_straight\n",
    "    for i in range(0, cones_on_straight + 1):\n",
    "        blue_cones = np.append(blue_cones, [[straight_length - i*distance_cones_straight, -track_width/2 + turn_radius*2, ]], axis=0)\n",
    "        yellow_cones = np.append(yellow_cones, [[straight_length - i*distance_cones_straight, +track_width/2 + turn_radius*2]], axis=0)\n",
    "        centerline = np.append(centerline, [[straight_length - i*distance_cones_straight, +turn_radius*2]], axis=0)\n",
    "\n",
    "\n",
    "    return blue_cones, yellow_cones, centerline"
   ]
  },
  {
   "cell_type": "code",
   "execution_count": 24,
   "metadata": {},
   "outputs": [
    {
     "data": {
      "text/plain": [
       "(-1.9700625197289676, 41.37131291430832, -2.15, 12.15)"
      ]
     },
     "execution_count": 24,
     "metadata": {},
     "output_type": "execute_result"
    },
    {
     "data": {
      "image/png": "[encoded data removed]",
      "text/plain": [
       "<Figure size 432x288 with 1 Axes>"
      ]
     },
     "metadata": {
      "needs_background": "light"
     },
     "output_type": "display_data"
    }
   ],
   "source": [
    "distance_cones_straight = 3\n",
    "cones_on_straight = 10 # so 30m\n",
    "\n",
    "track_width = 3\n",
    "\n",
    "turn_radius = 5\n",
    "blue_cones_turn = 8\n",
    "yellow_cones_turn = 10\n",
    "centerline_points_turn = 20\n",
    "\n",
    "blue_cones, yellow_cones, centerline = create_map_dvsv(distance_cones_straight, cones_on_straight, track_width, turn_radius, blue_cones_turn, yellow_cones_turn, centerline_points_turn)\n",
    "\n",
    "plt.plot(blue_cones[:,0], blue_cones[:,1], 'bo')\n",
    "plt.plot(yellow_cones[:,0], yellow_cones[:,1], 'yo')\n",
    "plt.plot(centerline[:,0], centerline[:,1], 'g')\n",
    "plt.axis('equal')\n",
    "# plt.ylim(25, 50)"
   ]
  },
  {
   "cell_type": "markdown",
   "metadata": {},
   "source": [
    "# Save configurations to files\n",
    "Don't forget to change filename"
   ]
  },
  {
   "cell_type": "code",
   "execution_count": 38,
   "metadata": {},
   "outputs": [],
   "source": [
    "# Save in ROS format to YAML file\n",
    "all_cones = []\n",
    "\n",
    "# Iterate over blue cone locations and create YAML entries\n",
    "for cone in blue_cones:\n",
    "    cone_entry = {\n",
    "        \"covariance\": [0.0] * 9,\n",
    "        \"observation\": {\n",
    "            \"belief\": 1,\n",
    "            \"location\": {\"x\": float(cone[0]), \"y\": float(cone[1]), \"z\": 0},\n",
    "            \"observation_class\": 0,\n",
    "        },\n",
    "    }\n",
    "    all_cones.append(cone_entry)\n",
    "\n",
    "# Iterate over yellow cone locations and create YAML entries\n",
    "for cone in yellow_cones:\n",
    "    cone_entry = {\n",
    "        \"covariance\": [0.0] * 9,\n",
    "        \"observation\": {\n",
    "            \"belief\": 1,\n",
    "            \"location\": {\"x\": float(cone[0]), \"y\": float(cone[1]), \"z\": 0},\n",
    "            \"observation_class\": 1,\n",
    "        },\n",
    "    }\n",
    "    all_cones.append(cone_entry)\n",
    "\n",
    "# Create the final YAML data structure\n",
    "data = {\n",
    "    \"header\": {\n",
    "        \"frame_id\": \"ugr/map\",\n",
    "        \"seq\": 0,\n",
    "        \"stamp\": {\"nsecs\": 0, \"secs\": 0},\n",
    "    },\n",
    "    \"observations\": all_cones,\n",
    "}\n",
    "\n",
    "\n",
    "filename = \"map_dvsv.yaml\"\n",
    "\n",
    "with open(filename, \"w\") as file:\n",
    "    yaml.dump(data, file)"
   ]
  },
  {
   "cell_type": "code",
   "execution_count": 39,
   "metadata": {},
   "outputs": [],
   "source": [
    "all_poses = []\n",
    "\n",
    "# Iterate over path poses and create YAML entries\n",
    "for pose in centerline:\n",
    "    pose_entry = {\n",
    "        \"header\": {\n",
    "            \"frame_id\": \"ugr/map\",\n",
    "            \"seq\": 0,\n",
    "            \"stamp\": {\"nsecs\": 0, \"secs\": 0},\n",
    "        },\n",
    "        \"pose\": {\n",
    "            \"position\": {\"x\": float(pose[0]), \"y\": float(pose[1]), \"z\": 0},\n",
    "            \"orientation\": {\"x\": 0, \"y\": 0, \"z\": 0, \"w\": 1},\n",
    "        },\n",
    "    }\n",
    "    all_poses.append(pose_entry)\n",
    "\n",
    "# Create the final YAML data structure\n",
    "data = {\n",
    "    \"header\": {\n",
    "        \"frame_id\": \"ugr/map\",\n",
    "        \"seq\": 0,\n",
    "        \"stamp\": {\"nsecs\": 0, \"secs\": 0},\n",
    "    },\n",
    "    \"poses\": all_poses,\n",
    "}\n",
    "\n",
    "filename = \"centerline_dvsv.yaml\"\n",
    "\n",
    "with open(filename, \"w\") as file:\n",
    "    yaml.dump(data, file)"
   ]
  },
  {
   "cell_type": "code",
   "execution_count": null,
   "metadata": {},
   "outputs": [],
   "source": []
  }
 ],
 "metadata": {
  "kernelspec": {
   "display_name": "Python 3",
   "language": "python",
   "name": "python3"
  },
  "language_info": {
   "codemirror_mode": {
    "name": "ipython",
    "version": 3
   },
   "file_extension": ".py",
   "mimetype": "text/x-python",
   "name": "python",
   "nbconvert_exporter": "python",
   "pygments_lexer": "ipython3",
   "version": "3.10.12"
  }
 },
 "nbformat": 4,
 "nbformat_minor": 2
}
