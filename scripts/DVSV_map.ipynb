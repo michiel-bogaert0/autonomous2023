{
  "cells": [
  {
   "cell_type": "code",
   "execution_count": 10,
   "metadata": {},
   "outputs": [],
   "source": [
    "import numpy as np\n",
    "import matplotlib.pyplot as plt\n",
    "import yaml\n",
    "import pathlib"
   ]
  },
  {
   "cell_type": "code",
   "execution_count": 36,
   "metadata": {},
   "outputs": [],
   "source": [
    "def create_map_dvsv(distance_cones_straight, cones_on_straight, track_width, turn_radius, blue_cones_turn, yellow_cones_turn, centerline_points_turn):\n",
    "    blue_cones = np.array([[0, track_width/2]])\n",
    "    yellow_cones = np.array([[0, -track_width/2]])\n",
    "\n",
    "    centerline = np.array([[0, 0]])\n",
    "\n",
    "    straight_length = distance_cones_straight * cones_on_straight\n",
    "\n",
    "    # straight; cones_on_straight amount of cones with spacing of distance_cones_straight\n",
    "    for i in range(1, cones_on_straight + 1):\n",
    "        blue_cones = np.append(blue_cones, [[i*distance_cones_straight, track_width/2]], axis=0)\n",
    "        yellow_cones = np.append(yellow_cones, [[i*distance_cones_straight, -track_width/2]], axis=0)\n",
    "        centerline = np.append(centerline, [[i*distance_cones_straight, 0]], axis=0)\n",
    "    \n",
    "    # left turn of 180 degrees with radius turn_radius\n",
    "    inner_radius = turn_radius - track_width/2\n",
    "    angle = np.linspace(-np.pi/2, np.pi/2, blue_cones_turn)\n",
    "    x = inner_radius*np.cos(angle) + straight_length + distance_cones_straight\n",
    "    y = inner_radius*np.sin(angle) + turn_radius\n",
    "    blue_cones = np.append(blue_cones, np.column_stack((x, y)), axis=0)\n",
    "\n",
    "    angle = np.linspace(-np.pi/2, np.pi/2, yellow_cones_turn)\n",
    "    outer_radius = turn_radius + track_width/2\n",
    "    x = outer_radius*np.cos(angle) + straight_length + distance_cones_straight\n",
    "    y = outer_radius*np.sin(angle) + turn_radius\n",
    "    yellow_cones = np.append(yellow_cones, np.column_stack((x, y)), axis=0)\n",
    "\n",
    "    angle = np.linspace(-np.pi/2, np.pi/2, centerline_points_turn)\n",
    "    x = turn_radius*np.cos(angle) + straight_length + distance_cones_straight\n",
    "    y = turn_radius*np.sin(angle) + turn_radius\n",
    "    centerline = np.append(centerline, np.column_stack((x, y)), axis=0)\n",
    "\n",
    "    # reverse straight; cones_on_straight amount of cones with spacing of distance_cones_straight\n",
    "    for i in range(0, cones_on_straight + 1):\n",
    "        blue_cones = np.append(blue_cones, [[straight_length - i*distance_cones_straight, -track_width/2 + turn_radius*2, ]], axis=0)\n",
    "        yellow_cones = np.append(yellow_cones, [[straight_length - i*distance_cones_straight, +track_width/2 + turn_radius*2]], axis=0)\n",
    "        centerline = np.append(centerline, [[straight_length - i*distance_cones_straight, +turn_radius*2]], axis=0)\n",
    "\n",
    "\n",
    "    return blue_cones, yellow_cones, centerline"
   ]
  },
  {
   "cell_type": "code",
   "execution_count": 37,
   "metadata": {},
   "outputs": [
    {
     "data": {
      "text/plain": [
       "(-2.117783682680799, 44.47345733629678, -2.45, 18.45)"
      ]
     },
     "execution_count": 37,
     "metadata": {},
     "output_type": "execute_result"
    },
    {
     "data": {
      "image/png": "[encoded data removed]",
      "text/plain": [
       "<Figure size 432x288 with 1 Axes>"
      ]
     },
     "metadata": {
      "needs_background": "light"
     },
     "output_type": "display_data"
    }
   ],
   "source": [
    "distance_cones_straight = 3\n",
    "cones_on_straight = 10 # so 30m\n",
    "\n",
    "track_width = 3\n",
    "\n",
    "turn_radius = 8\n",
    "blue_cones_turn = 8\n",
    "yellow_cones_turn = 10\n",
    "centerline_points_turn = 20\n",
    "\n",
    "blue_cones, yellow_cones, centerline = create_map_dvsv(distance_cones_straight, cones_on_straight, track_width, turn_radius, blue_cones_turn, yellow_cones_turn, centerline_points_turn)\n",
    "\n",
    "plt.plot(blue_cones[:,0], blue_cones[:,1], 'bo')\n",
    "plt.plot(yellow_cones[:,0], yellow_cones[:,1], 'yo')\n",
    "plt.plot(centerline[:,0], centerline[:,1], 'g')\n",
    "plt.axis('equal')\n",
    "# plt.ylim(25, 50)"
   ]
  },
  {
   "cell_type": "code",
   "execution_count": 38,
   "metadata": {},
   "outputs": [],
   "source": [
    "# Save in ROS format to YAML file\n",
    "all_cones = []\n",
    "\n",
    "# Iterate over blue cone locations and create YAML entries\n",
    "for cone in blue_cones:\n",
    "    cone_entry = {\n",
    "        \"covariance\": [0.0] * 9,\n",
    "        \"observation\": {\n",
    "            \"belief\": 1,\n",
    "            \"location\": {\"x\": float(cone[0]), \"y\": float(cone[1]), \"z\": 0},\n",
    "            \"observation_class\": 0,\n",
    "        },\n",
    "    }\n",
    "    all_cones.append(cone_entry)\n",
    "\n",
    "# Iterate over yellow cone locations and create YAML entries\n",
    "for cone in yellow_cones:\n",
    "    cone_entry = {\n",
    "        \"covariance\": [0.0] * 9,\n",
    "        \"observation\": {\n",
    "            \"belief\": 1,\n",
    "            \"location\": {\"x\": float(cone[0]), \"y\": float(cone[1]), \"z\": 0},\n",
    "            \"observation_class\": 1,\n",
    "        },\n",
    "    }\n",
    "    all_cones.append(cone_entry)\n",
    "\n",
    "# Create the final YAML data structure\n",
    "data = {\n",
    "    \"header\": {\n",
    "        \"frame_id\": \"ugr/map\",\n",
    "        \"seq\": 0,\n",
    "        \"stamp\": {\"nsecs\": 0, \"secs\": 0},\n",
    "    },\n",
    "    \"observations\": all_cones,\n",
    "}\n",
    "\n",
    "\n",
    "filename = \"map_dvsv.yaml\"\n",
    "\n",
    "with open(filename, \"w\") as file:\n",
    "    yaml.dump(data, file)"
   ]
  },
  {
   "cell_type": "code",
   "execution_count": 39,
   "metadata": {},
   "outputs": [],
   "source": [
    "all_poses = []\n",
    "\n",
    "# Iterate over path poses and create YAML entries\n",
    "for pose in centerline:\n",
    "    pose_entry = {\n",
    "        \"header\": {\n",
    "            \"frame_id\": \"ugr/map\",\n",
    "            \"seq\": 0,\n",
    "            \"stamp\": {\"nsecs\": 0, \"secs\": 0},\n",
    "        },\n",
    "        \"pose\": {\n",
    "            \"position\": {\"x\": float(pose[0]), \"y\": float(pose[1]), \"z\": 0},\n",
    "            \"orientation\": {\"x\": 0, \"y\": 0, \"z\": 0, \"w\": 1},\n",
    "        },\n",
    "    }\n",
    "    all_poses.append(pose_entry)\n",
    "\n",
    "# Create the final YAML data structure\n",
    "data = {\n",
    "    \"header\": {\n",
    "        \"frame_id\": \"ugr/map\",\n",
    "        \"seq\": 0,\n",
    "        \"stamp\": {\"nsecs\": 0, \"secs\": 0},\n",
    "    },\n",
    "    \"poses\": all_poses,\n",
    "}\n",
    "\n",
    "filename = \"centerline_dvsv.yaml\"\n",
    "\n",
    "with open(filename, \"w\") as file:\n",
    "    yaml.dump(data, file)"
   ]
  },
  {
   "cell_type": "code",
   "execution_count": null,
   "metadata": {},
   "outputs": [],
   "source": []
  }
 ],
 "metadata": {
  "kernelspec": {
   "display_name": "Python 3",
   "language": "python",
   "name": "python3"
  },
  "language_info": {
   "codemirror_mode": {
    "name": "ipython",
    "version": 3
   },
   "file_extension": ".py",
   "mimetype": "text/x-python",
   "name": "python",
   "nbconvert_exporter": "python",
   "pygments_lexer": "ipython3",
   "version": "3.10.12"
  }
 },
 "nbformat": 4,
 "nbformat_minor": 2
}
